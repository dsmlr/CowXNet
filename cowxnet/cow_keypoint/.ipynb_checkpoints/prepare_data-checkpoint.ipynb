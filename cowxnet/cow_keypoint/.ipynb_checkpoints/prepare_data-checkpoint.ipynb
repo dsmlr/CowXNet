{
 "cells": [
  {
   "cell_type": "code",
   "execution_count": 1,
   "id": "2eac3910",
   "metadata": {},
   "outputs": [],
   "source": [
    "import pandas as pd\n",
    "import os\n",
    "import core as KeypointAPI\n",
    "import matplotlib.pyplot as plt"
   ]
  },
  {
   "cell_type": "code",
   "execution_count": 3,
   "id": "b74e8282",
   "metadata": {},
   "outputs": [
    {
     "ename": "AttributeError",
     "evalue": "module 'core' has no attribute 'cow_detect'",
     "output_type": "error",
     "traceback": [
      "\u001b[0;31m---------------------------------------------------------------------------\u001b[0m",
      "\u001b[0;31mAttributeError\u001b[0m                            Traceback (most recent call last)",
      "\u001b[0;32m<ipython-input-3-79ab2d5ae101>\u001b[0m in \u001b[0;36m<module>\u001b[0;34m\u001b[0m\n\u001b[0;32m----> 1\u001b[0;31m \u001b[0mKeypointAPI\u001b[0m\u001b[0;34m.\u001b[0m\u001b[0mcow_detect\u001b[0m\u001b[0;34m.\u001b[0m\u001b[0mvisualize\u001b[0m\u001b[0;34m\u001b[0m\u001b[0;34m\u001b[0m\u001b[0m\n\u001b[0m",
      "\u001b[0;31mAttributeError\u001b[0m: module 'core' has no attribute 'cow_detect'"
     ]
    }
   ],
   "source": [
    "KeypointAPI.cow_detect.visualize"
   ]
  },
  {
   "cell_type": "code",
   "execution_count": null,
   "id": "cba8b91d",
   "metadata": {},
   "outputs": [],
   "source": [
    "data_path = os.path.join('..', '..', 'data')\n",
    "df = pd.read_pickle(os.path.join(data_path, 'annotations.pkl'))"
   ]
  },
  {
   "cell_type": "code",
   "execution_count": null,
   "id": "c4f8100e",
   "metadata": {},
   "outputs": [],
   "source": [
    "df.head(5)"
   ]
  },
  {
   "cell_type": "markdown",
   "id": "80dcb76e",
   "metadata": {},
   "source": [
    "# Visualize data"
   ]
  },
  {
   "cell_type": "code",
   "execution_count": null,
   "id": "14338615",
   "metadata": {},
   "outputs": [],
   "source": [
    "for img in df['id']['image'][0:1]:\n",
    "\n",
    "    img_path = os.path.join('..', '..', 'data', 'images', 'original', img + '.png')\n",
    "\n",
    "    img_df = df[df['id']['image'] == img]\n",
    "    \n",
    "    boxes = []\n",
    "    \n",
    "    for i in range(len(img_df)):\n",
    "        W, H = (img_df.iloc[i]['size']['w'], img_df.iloc[i]['size']['h'])\n",
    "        boxes.append({\n",
    "            'box': (img_df.iloc[i]['cow-box']['xmin'] * W, img_df.iloc[i]['cow-box']['ymin'] * H, img_df.iloc[i]['cow-box']['xmax'] * W, img_df.iloc[i]['cow-box']['ymax'] * H),\n",
    "            'keypoints': [\n",
    "                (img_df.iloc[i]['head']['x'] * W, img_df.iloc[i]['head']['y'] * H), \n",
    "                (img_df.iloc[i]['body']['x'] * W, img_df.iloc[i]['body']['y'] * H), \n",
    "                (img_df.iloc[i]['tail-head']['x'] * W, img_df.iloc[i]['tail-head']['y'] * H)],\n",
    "            'heat_label': img_df.iloc[i]['label']['heat_label'],\n",
    "            'cow': img_df.iloc[i]['id']['cow']\n",
    "        })\n",
    "        \n",
    "    results = KeypointAPI.cow_detect.visualize.visualize_detections(img_path, boxes, 'crop')\n",
    "\n",
    "    for img in results:    \n",
    "        plt.imshow(img)\n",
    "        plt.show()"
   ]
  },
  {
   "cell_type": "markdown",
   "id": "15d0ebea",
   "metadata": {},
   "source": [
    "# Prepare data for training"
   ]
  },
  {
   "cell_type": "code",
   "execution_count": null,
   "id": "2c4691d7",
   "metadata": {},
   "outputs": [],
   "source": [
    "n_round = 5\n",
    "for i in range(n_round):\n",
    "    \n",
    "    train = pd.read_pickle(os.path.join(data_path, 'train', 'train_round' + str(i + 1) + '.pkl'))\n",
    "    test = pd.read_pickle(os.path.join(data_path, 'test', 'test_round' + str(i + 1) + '.pkl'))"
   ]
  },
  {
   "cell_type": "code",
   "execution_count": null,
   "id": "1b6b1520",
   "metadata": {},
   "outputs": [],
   "source": [
    "columns = [\"filename\", \"head_x\", \"head_y\", \"body_x\", \"body_y\", \"tail-head_x\", \"tail-head_y\"]\n",
    "\n",
    "train_df = pd.DataFrame(columns=columns)\n",
    "\n",
    "for img in train['image']:\n",
    "    img_df = df[df['id']['image'] == img]\n",
    "    \n",
    "    img_path = os.path.join('..', '..', 'data', 'images', 'original', img + '.png')\n",
    "    boxes = []\n",
    "    \n",
    "    for i in range(len(img_df)):\n",
    "\n",
    "        W, H = (img_df.iloc[i]['size']['w'], img_df.iloc[i]['size']['h'])\n",
    "        xmin, ymin, xmax, ymax = (img_df.iloc[i]['cow-box']['xmin'] * W, img_df.iloc[i]['cow-box']['ymin'] * H, img_df.iloc[i]['cow-box']['xmax'] * W, img_df.iloc[i]['cow-box']['ymax'] * H)\n",
    "        cow = img_df.iloc[i]['id']['cow']\n",
    "        head_x, head_y, body_x, body_y, tail_x, tail_y = (\n",
    "            img_df.iloc[i]['head']['x'] * W, img_df.iloc[i]['head']['y'] * H,\n",
    "            img_df.iloc[i]['body']['x'] * W, img_df.iloc[i]['body']['y'] * H,\n",
    "            img_df.iloc[i]['tail-head']['x'] * W, img_df.iloc[i]['tail-head']['y'] * H\n",
    "        )\n",
    "        \n",
    "        \n",
    "        head_x, head_y = KeypointAPI.preprocess.get_new_coordinates(head_x, head_y, xmin, ymin, xmax, ymax, W, H, type='re-center')\n",
    "        body_x, body_y = KeypointAPI.preprocess.get_new_coordinates(body_x, body_y, xmin, ymin, xmax, ymax, W, H, type='re-center')\n",
    "        tail_x, tail_y = KeypointAPI.preprocess.get_new_coordinates(tail_x, tail_y, xmin, ymin, xmax, ymax, W, H, type='re-center')\n",
    "        \n",
    "        # normalize\n",
    "        head_x, head_y, body_x, body_y, tail_x, tail_y = (head_x / W, head_y / H, body_x / W, body_y / H, tail_x / W, tail_y / H)\n",
    "        \n",
    "        filename = img + '_' + str(cow)\n",
    "        \n",
    "        train_df = train_df.append({\n",
    "            'filename': filename,\n",
    "            'head_x': head_x,\n",
    "            'head_y': head_y,\n",
    "            'body_x': body_x,\n",
    "            'body_y': body_y,\n",
    "            'tail-head_x': tail_x,\n",
    "            'tail-head_y': tail_y\n",
    "        }, ignore_index=True)\n",
    "        \n",
    "        boxes.append({\n",
    "            'box': (xmin, ymin, xmax, ymax),\n",
    "            'keypoints': [\n",
    "                (head_x, head_y), \n",
    "                (body_x, body_y), \n",
    "                (tail_x, tail_y)],\n",
    "            'heat_label': img_df.iloc[i]['label']['heat_label'],\n",
    "            'cow': img_df.iloc[i]['id']['cow']\n",
    "        })\n",
    "        "
   ]
  },
  {
   "cell_type": "code",
   "execution_count": null,
   "id": "9a2d01f9",
   "metadata": {},
   "outputs": [],
   "source": [
    "test_df = pd.DataFrame(columns=columns)\n",
    "\n",
    "for img in test['image']:\n",
    "    img_df = df[df['id']['image'] == img]\n",
    "    \n",
    "    img_path = os.path.join('..', '..', 'data', 'images', 'original', img + '.png')\n",
    "    \n",
    "    for i in range(len(img_df)):\n",
    "\n",
    "        W, H = (img_df.iloc[i]['size']['w'], img_df.iloc[i]['size']['h'])\n",
    "        xmin, ymin, xmax, ymax = (img_df.iloc[i]['cow-box']['xmin'] * W, img_df.iloc[i]['cow-box']['ymin'] * H, img_df.iloc[i]['cow-box']['xmax'] * W, img_df.iloc[i]['cow-box']['ymax'] * H)\n",
    "        cow = img_df.iloc[i]['id']['cow']\n",
    "        head_x, head_y, body_x, body_y, tail_x, tail_y = (\n",
    "            img_df.iloc[i]['head']['x'] * W, img_df.iloc[i]['head']['y'] * H,\n",
    "            img_df.iloc[i]['body']['x'] * W, img_df.iloc[i]['body']['y'] * H,\n",
    "            img_df.iloc[i]['tail-head']['x'] * W, img_df.iloc[i]['tail-head']['y'] * H\n",
    "        )\n",
    "        \n",
    "        \n",
    "        head_x, head_y = KeypointAPI.preprocess.get_new_coordinates(head_x, head_y, xmin, ymin, xmax, ymax, W, H, type='re-center')\n",
    "        body_x, body_y = KeypointAPI.preprocess.get_new_coordinates(body_x, body_y, xmin, ymin, xmax, ymax, W, H, type='re-center')\n",
    "        tail_x, tail_y = KeypointAPI.preprocess.get_new_coordinates(tail_x, tail_y, xmin, ymin, xmax, ymax, W, H, type='re-center')\n",
    "        \n",
    "        # normalize\n",
    "        head_x, head_y, body_x, body_y, tail_x, tail_y = (head_x / W, head_y / H, body_x / W, body_y / H, tail_x / W, tail_y / H)\n",
    "        \n",
    "        filename = img + '_' + str(cow)\n",
    "        \n",
    "        test_df = test_df.append({\n",
    "            'filename': filename,\n",
    "            'head_x': head_x,\n",
    "            'head_y': head_y,\n",
    "            'body_x': body_x,\n",
    "            'body_y': body_y,\n",
    "            'tail-head_x': tail_x,\n",
    "            'tail-head_y': tail_y\n",
    "        }, ignore_index=True)"
   ]
  },
  {
   "cell_type": "code",
   "execution_count": null,
   "id": "41f5e5f2",
   "metadata": {},
   "outputs": [],
   "source": [
    "train_df.to_pickle(os.path.join(data_path, 'train', 'cow_keypoint_train.pkl'))\n",
    "test_df.to_pickle(os.path.join(data_path, 'test', 'cow_keypoint_test.pkl'))"
   ]
  },
  {
   "cell_type": "code",
   "execution_count": null,
   "id": "85376dd5",
   "metadata": {},
   "outputs": [],
   "source": [
    "KeypointAPI.visualize.visualize_detections"
   ]
  }
 ],
 "metadata": {
  "kernelspec": {
   "display_name": "Python 3",
   "language": "python",
   "name": "python3"
  },
  "language_info": {
   "codemirror_mode": {
    "name": "ipython",
    "version": 3
   },
   "file_extension": ".py",
   "mimetype": "text/x-python",
   "name": "python",
   "nbconvert_exporter": "python",
   "pygments_lexer": "ipython3",
   "version": "3.7.10"
  }
 },
 "nbformat": 4,
 "nbformat_minor": 5
}
